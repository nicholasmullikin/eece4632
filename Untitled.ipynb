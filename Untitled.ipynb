{
 "cells": [
  {
   "cell_type": "code",
   "execution_count": 1,
   "metadata": {},
   "outputs": [
    {
     "data": {
      "application/javascript": [
       "\n",
       "try {\n",
       "require(['notebook/js/codecell'], function(codecell) {\n",
       "  codecell.CodeCell.options_default.highlight_modes[\n",
       "      'magic_text/x-csrc'] = {'reg':[/^%%microblaze/]};\n",
       "  Jupyter.notebook.events.one('kernel_ready.Kernel', function(){\n",
       "      Jupyter.notebook.get_cells().map(function(cell){\n",
       "          if (cell.cell_type == 'code'){ cell.auto_highlight(); } }) ;\n",
       "  });\n",
       "});\n",
       "} catch (e) {};\n"
      ]
     },
     "metadata": {},
     "output_type": "display_data"
    },
    {
     "data": {
      "application/javascript": [
       "\n",
       "try {\n",
       "require(['notebook/js/codecell'], function(codecell) {\n",
       "  codecell.CodeCell.options_default.highlight_modes[\n",
       "      'magic_text/x-csrc'] = {'reg':[/^%%pybind11/]};\n",
       "  Jupyter.notebook.events.one('kernel_ready.Kernel', function(){\n",
       "      Jupyter.notebook.get_cells().map(function(cell){\n",
       "          if (cell.cell_type == 'code'){ cell.auto_highlight(); } }) ;\n",
       "  });\n",
       "});\n",
       "} catch (e) {};\n"
      ]
     },
     "metadata": {},
     "output_type": "display_data"
    }
   ],
   "source": [
    "from pynq import Overlay\n",
    "import numpy as np\n",
    "overlay = Overlay('./design_1.bit')"
   ]
  },
  {
   "cell_type": "code",
   "execution_count": 2,
   "metadata": {},
   "outputs": [],
   "source": [
    "dma=overlay.axi_dma_0\n"
   ]
  },
  {
   "cell_type": "code",
   "execution_count": 56,
   "metadata": {},
   "outputs": [],
   "source": [
    "def dma_divide(in_b, out_b):\n",
    "    dma.sendchannel.transfer(in_b)\n",
    "    dma.recvchannel.transfer(out_b)\n",
    "    dma.sendchannel.wait()\n",
    "    dma.recvchannel.wait()"
   ]
  },
  {
   "cell_type": "code",
   "execution_count": 57,
   "metadata": {},
   "outputs": [],
   "source": [
    "def sw_divide_1(in_b, out_b):\n",
    "    \"\"\" This function outputs a list where, if the integer on\n",
    "    the input list is divisible by six, the corresponding\n",
    "    output is 1 else the output is 0 \"\"\"\n",
    "    \n",
    "    divide = lambda x: x%6 == 0\n",
    "    out_b = divide(in_b).astype(np.uint32)"
   ]
  },
  {
   "cell_type": "code",
   "execution_count": 58,
   "metadata": {},
   "outputs": [],
   "source": [
    "def sw_divide_2(in_b, out_b):\n",
    "    \"\"\" This function outputs a list where, if the integer on\n",
    "    the input list is divisible by six, the corresponding\n",
    "    output is 1 else the output is 0 \"\"\"\n",
    "    \n",
    "    for x in range(len(in_b)):\n",
    "        if in_b[x] % 6 == 0:\n",
    "            out_b[x] = 1\n",
    "        else:\n",
    "            out_b[x] = 0\n"
   ]
  },
  {
   "cell_type": "code",
   "execution_count": 6,
   "metadata": {},
   "outputs": [],
   "source": [
    "import decimal\n",
    "decimal.getcontext().prec = 3\n",
    "\n",
    "def round_floats(o):\n",
    "  if isinstance(o, float): return float(+decimal.Decimal(o))\n",
    "  if isinstance(o, dict): return {k: round_floats(v) for k, v in o.items()}\n",
    "  if isinstance(o, (list, tuple)): return [round_floats(x) for x in o]\n"
   ]
  },
  {
   "cell_type": "code",
   "execution_count": 7,
   "metadata": {},
   "outputs": [],
   "source": [
    "import time\n",
    "from pynq import allocate\n",
    "\n",
    "def run_test(method, array_size):\n",
    "    total_time = []\n",
    "    TRIALS = 1\n",
    "    \n",
    "    \n",
    "    in_buffer = allocate(shape=(array_size,),dtype=np.uint32)\n",
    "    out_buffer = allocate(shape=(array_size,),dtype=np.uint32)\n",
    "\n",
    "    in_buffer[:] = [i for i in range(1, array_size+1)]\n",
    "\n",
    "    for x in range(TRIALS):\n",
    "        start_time = time.time()\n",
    "        method(in_buffer, out_buffer)\n",
    "        total_time.append(time.time() - start_time)\n",
    "\n",
    "    in_buffer.flush()\n",
    "    out_buffer.flush()\n",
    "    return round_floats(sum(total_time) / len(total_time))"
   ]
  },
  {
   "cell_type": "code",
   "execution_count": 68,
   "metadata": {},
   "outputs": [],
   "source": [
    "import pprint\n",
    "ARRAY_SIZE = [1, 10, 100, 200, 2000, 100000, 1000000, 2000000]\n",
    "# ARRAY_SIZE = [100, 200]\n",
    "\n",
    "times_1 = []\n",
    "times_2 = []\n",
    "\n",
    "pp = pprint.PrettyPrinter(indent=4)\n",
    "\n",
    "for x in range(len(ARRAY_SIZE)):\n",
    "    times_1.append(run_test(sw_divide_1, ARRAY_SIZE[x]))\n",
    "    times_2.append(run_test(dma_divide, ARRAY_SIZE[x]))\n",
    "\n"
   ]
  },
  {
   "cell_type": "code",
   "execution_count": 69,
   "metadata": {},
   "outputs": [
    {
     "data": {
      "image/png": "[encoded data removed]",
      "text/plain": [
       "<matplotlib.figure.Figure at 0xadcfe5d0>"
      ]
     },
     "metadata": {},
     "output_type": "display_data"
    }
   ],
   "source": [
    "import matplotlib.pyplot as plt\n",
    "\n",
    "line1, = plt.plot(ARRAY_SIZE, times_1)\n",
    "line2, = plt.plot(ARRAY_SIZE, times_2)\n",
    "\n",
    "line1.set_label('SW')\n",
    "line2.set_label('HW')\n",
    "plt.legend()\n",
    "plt.yscale(\"log\") \n",
    "plt.show()"
   ]
  },
  {
   "cell_type": "code",
   "execution_count": 48,
   "metadata": {},
   "outputs": [
    {
     "ename": "IndexError",
     "evalue": "list index out of range",
     "output_type": "error",
     "traceback": [
      "\u001b[0;31m---------------------------------------------------------------------------\u001b[0m",
      "\u001b[0;31mIndexError\u001b[0m                                Traceback (most recent call last)",
      "\u001b[0;32m<ipython-input-48-9b498d1a11f9>\u001b[0m in \u001b[0;36m<module>\u001b[0;34m()\u001b[0m\n\u001b[0;32m----> 1\u001b[0;31m \u001b[0mtimes\u001b[0m\u001b[0;34m[\u001b[0m\u001b[0;34m:\u001b[0m\u001b[0;34m]\u001b[0m\u001b[0;34m[\u001b[0m\u001b[0;36m1\u001b[0m\u001b[0;34m]\u001b[0m\u001b[0;34m\u001b[0m\u001b[0m\n\u001b[0m",
      "\u001b[0;31mIndexError\u001b[0m: list index out of range"
     ]
    }
   ],
   "source": []
  }
 ],
 "metadata": {
  "kernelspec": {
   "display_name": "Python 3",
   "language": "python",
   "name": "python3"
  },
  "language_info": {
   "codemirror_mode": {
    "name": "ipython",
    "version": 3
   },
   "file_extension": ".py",
   "mimetype": "text/x-python",
   "name": "python",
   "nbconvert_exporter": "python",
   "pygments_lexer": "ipython3",
   "version": "3.6.5"
  }
 },
 "nbformat": 4,
 "nbformat_minor": 2
}
