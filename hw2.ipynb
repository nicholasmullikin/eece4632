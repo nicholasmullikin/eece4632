from pynq import DefaultIP

class DivideDriver(DefaultIP):
    def __init__(self, description):
        super().__init__(description=description)

    bindto = ['xilinx.com:hls:divide_by_six:1.0']

    def divide_by_six(self, a):
        self.write(0x10, a)
        return self.read(0x18)

from pynq import Overlay
overlay = Overlay('divide_by_six.bit')

overlay?

import time

def divide_by_six(integerlist):
    """ This function outputs a list where, if the integer on
    the input list is divisible by six, the corresponding
    output is 1 else the output is 0 """
    return list(map(lambda x: overlay.divide_by_six_0.divide_by_six(x), integerlist))

total_time = []
TRIALS = 1
ARRAY_SIZE = 2
for x in range(TRIALS):
    start_time = time.time()
    print(divide_by_six([i for i in range(ARRAY_SIZE)]))
    total_time.append(time.time() - start_time)

print(sum(total_time) / len(total_time))
